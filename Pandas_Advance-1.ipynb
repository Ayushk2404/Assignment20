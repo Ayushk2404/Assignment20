{
 "cells": [
  {
   "cell_type": "code",
   "execution_count": 6,
   "metadata": {},
   "outputs": [
    {
     "name": "stdout",
     "output_type": "stream",
     "text": [
      "   Name  Age      City\n",
      "0  John   25  New York\n",
      "1  Jane   30    London\n",
      "2  Mike   22     Paris\n",
      "             Age        Salary\n",
      "count   5.000000      5.000000\n",
      "mean   28.000000  61000.000000\n",
      "std     4.949747  14317.821063\n",
      "min    22.000000  45000.000000\n",
      "25%    25.000000  50000.000000\n",
      "50%    28.000000  60000.000000\n",
      "75%    30.000000  70000.000000\n",
      "max    35.000000  80000.000000\n",
      "   Name  Age      City\n",
      "0  John   25  New York\n",
      "1  Jane   30    London\n",
      "2  Mike   22     Paris\n",
      "Age\n",
      "22    45000.0\n",
      "25    50000.0\n",
      "28    70000.0\n",
      "30    60000.0\n",
      "35    80000.0\n",
      "Name: Salary, dtype: float64\n"
     ]
    }
   ],
   "source": [
    "#Q1\n",
    "# 1. pd.read_csv(): This function is used to read data from a CSV file and create a DataFrame.\n",
    "import pandas as pd\n",
    "df = pd.read_csv('data.csv')\n",
    "print(df.head())\n",
    "\n",
    "# 2. pd.DataFrame(): This function creates a DataFrame from various data structures like lists, dictionaries, NumPy arrays, etc.\n",
    "\n",
    "data1 = {\n",
    "    'Name': ['John', 'Jane', 'Mike'],\n",
    "    'Age': [25, 30, 22],\n",
    "    'City': ['New York', 'London', 'Paris']\n",
    "}\n",
    "df = pd.DataFrame(data1)\n",
    "print(df)\n",
    "\n",
    "# 3. df.describe(): This method generates descriptive statistics of the DataFrame, providing information like count, mean, standard deviation, min, max, etc. for numerical columns.\n",
    "\n",
    "data2 = {\n",
    "    'Age': [25, 30, 22, 28, 35],\n",
    "    'Salary': [50000, 60000, 45000, 70000, 80000]\n",
    "}\n",
    "df = pd.DataFrame(data2)\n",
    "print(df.describe())\n",
    "\n",
    "\n",
    "# 4. df.head(): This method returns the first few rows of the DataFrame. By default, it shows the top 5 rows.\n",
    "\n",
    "data3 = {\n",
    "    'Name': ['John', 'Jane', 'Mike'],\n",
    "    'Age': [25, 30, 22],\n",
    "    'City': ['New York', 'London', 'Paris']\n",
    "}\n",
    "df = pd.DataFrame(data3)\n",
    "print(df.head())\n",
    "\n",
    "# 5. df.groupby(): This method allows you to group the data based on one or more columns and perform aggregate functions on the grouped data.\n",
    "\n",
    "data4 = {\n",
    "    'Age': [25, 30, 22, 28, 35],\n",
    "    'Salary': [50000, 60000, 45000, 70000, 80000]\n",
    "}\n",
    "df = pd.DataFrame(data4)\n",
    "grouped_data = df.groupby('Age')['Salary'].mean()\n",
    "print(grouped_data)\n"
   ]
  },
  {
   "cell_type": "code",
   "execution_count": 1,
   "metadata": {},
   "outputs": [
    {
     "name": "stdout",
     "output_type": "stream",
     "text": [
      "    A    B     C\n",
      "1  10  100  1000\n",
      "3  20  200  2000\n",
      "5  30  300  3000\n",
      "7  40  400  4000\n"
     ]
    }
   ],
   "source": [
    "# Q2\n",
    "import pandas as pd\n",
    "\n",
    "def reindex_with_increment(df):\n",
    "    new_index = pd.Series(range(1, 2 * len(df) + 1, 2))\n",
    "    df.reset_index(drop=True, inplace=True)\n",
    "    df.index = new_index\n",
    "\n",
    "    return df\n",
    "\n",
    "data = {\n",
    "    'A': [10, 20, 30, 40],\n",
    "    'B': [100, 200, 300, 400],\n",
    "    'C': [1000, 2000, 3000, 4000]\n",
    "}\n",
    "df = pd.DataFrame(data)\n",
    "df_reindexed = reindex_with_increment(df)\n",
    "print(df_reindexed)\n"
   ]
  },
  {
   "cell_type": "code",
   "execution_count": 9,
   "metadata": {},
   "outputs": [
    {
     "name": "stdout",
     "output_type": "stream",
     "text": [
      "Values    60\n",
      "dtype: int64\n"
     ]
    }
   ],
   "source": [
    "#Q3\n",
    "import pandas as pd\n",
    "def sum_num(df):\n",
    "    sum_3 = df.head(3)\n",
    "    sum_3.sum()\n",
    "    return sum_3.sum()\n",
    "data_n = {\n",
    "    \"Values\":[10, 20, 30, 40, 50]\n",
    "}\n",
    "df = pd.DataFrame(data_n)\n",
    "print(sum_num(df))\n",
    "\n"
   ]
  },
  {
   "cell_type": "code",
   "execution_count": 11,
   "metadata": {},
   "outputs": [
    {
     "data": {
      "text/html": [
       "<div>\n",
       "<style scoped>\n",
       "    .dataframe tbody tr th:only-of-type {\n",
       "        vertical-align: middle;\n",
       "    }\n",
       "\n",
       "    .dataframe tbody tr th {\n",
       "        vertical-align: top;\n",
       "    }\n",
       "\n",
       "    .dataframe thead th {\n",
       "        text-align: right;\n",
       "    }\n",
       "</style>\n",
       "<table border=\"1\" class=\"dataframe\">\n",
       "  <thead>\n",
       "    <tr style=\"text-align: right;\">\n",
       "      <th></th>\n",
       "      <th>Text</th>\n",
       "      <th>count</th>\n",
       "    </tr>\n",
       "  </thead>\n",
       "  <tbody>\n",
       "    <tr>\n",
       "      <th>0</th>\n",
       "      <td>Linux</td>\n",
       "      <td>5</td>\n",
       "    </tr>\n",
       "    <tr>\n",
       "      <th>1</th>\n",
       "      <td>Windows</td>\n",
       "      <td>7</td>\n",
       "    </tr>\n",
       "    <tr>\n",
       "      <th>2</th>\n",
       "      <td>Unix</td>\n",
       "      <td>4</td>\n",
       "    </tr>\n",
       "    <tr>\n",
       "      <th>3</th>\n",
       "      <td>Raspberry</td>\n",
       "      <td>9</td>\n",
       "    </tr>\n",
       "  </tbody>\n",
       "</table>\n",
       "</div>"
      ],
      "text/plain": [
       "        Text  count\n",
       "0      Linux      5\n",
       "1    Windows      7\n",
       "2       Unix      4\n",
       "3  Raspberry      9"
      ]
     },
     "execution_count": 11,
     "metadata": {},
     "output_type": "execute_result"
    }
   ],
   "source": [
    "#Q4\n",
    "import pandas as pd\n",
    "def word_count(df):\n",
    "    df['count'] = df['Text'].str.len()\n",
    "    return df\n",
    "text = {\n",
    "    \"Text\":['Linux','Windows', 'Unix', 'Raspberry']\n",
    "}\n",
    "df = pd.DataFrame(text)\n",
    "word_count(df)\n",
    "\n"
   ]
  },
  {
   "cell_type": "code",
   "execution_count": 14,
   "metadata": {},
   "outputs": [
    {
     "name": "stdout",
     "output_type": "stream",
     "text": [
      "9\n",
      "(3, 3)\n"
     ]
    }
   ],
   "source": [
    "#Q5\n",
    "'''\n",
    "Both DataFrame.size() and DataFrame.shape() are methods in Pandas to get information about the DataFrame, but they provide different kinds of information:\n",
    "\n",
    "1. DataFrame.size(): This method returns the total number of elements in the DataFrame, i.e., the total number of cells. It counts both rows and columns and gives you the overall size of the DataFrame.'''\n",
    "import pandas as pd\n",
    "\n",
    "data1 = {\n",
    "    'A': [1, 2, 3],\n",
    "    'B': [4, 5, 6],\n",
    "    'C': [7, 8, 9]\n",
    "}\n",
    "\n",
    "df = pd.DataFrame(data1)\n",
    "\n",
    "print(df.size)\n",
    "\n",
    "'''\n",
    "DataFrame.shape(): This method returns a tuple representing the dimensions of the DataFrame.\n",
    "The tuple consists of two elements: the number of rows and the number of columns.'''\n",
    "\n",
    "\n",
    "data2 = {\n",
    "    'A': [1, 2, 3],\n",
    "    'B': [4, 5, 6],\n",
    "    'C': [7, 8, 9]\n",
    "}\n",
    "\n",
    "df = pd.DataFrame(data2)\n",
    "\n",
    "print(df.shape) \n",
    "\n"
   ]
  },
  {
   "cell_type": "code",
   "execution_count": null,
   "metadata": {},
   "outputs": [],
   "source": [
    "#Q6\n",
    "'''In pandas, we use the pd.read_excel() function to read data from an Excel file. This function is part of the pandas library and is used to create a DataFrame from the data stored in an Excel file.\n",
    "'''\n",
    "import pandas as pd\n",
    "\n",
    "# Example: Reading an Excel file and creating a DataFrame\n",
    "df = pd.read_excel('data.xlsx')\n",
    "print(df.head())\n"
   ]
  },
  {
   "cell_type": "code",
   "execution_count": 16,
   "metadata": {},
   "outputs": [
    {
     "data": {
      "text/html": [
       "<div>\n",
       "<style scoped>\n",
       "    .dataframe tbody tr th:only-of-type {\n",
       "        vertical-align: middle;\n",
       "    }\n",
       "\n",
       "    .dataframe tbody tr th {\n",
       "        vertical-align: top;\n",
       "    }\n",
       "\n",
       "    .dataframe thead th {\n",
       "        text-align: right;\n",
       "    }\n",
       "</style>\n",
       "<table border=\"1\" class=\"dataframe\">\n",
       "  <thead>\n",
       "    <tr style=\"text-align: right;\">\n",
       "      <th></th>\n",
       "      <th>Username</th>\n",
       "    </tr>\n",
       "  </thead>\n",
       "  <tbody>\n",
       "    <tr>\n",
       "      <th>0</th>\n",
       "      <td>Mrbeast</td>\n",
       "    </tr>\n",
       "    <tr>\n",
       "      <th>1</th>\n",
       "      <td>Ayush</td>\n",
       "    </tr>\n",
       "    <tr>\n",
       "      <th>2</th>\n",
       "      <td>Rahul123</td>\n",
       "    </tr>\n",
       "  </tbody>\n",
       "</table>\n",
       "</div>"
      ],
      "text/plain": [
       "   Username\n",
       "0   Mrbeast\n",
       "1     Ayush\n",
       "2  Rahul123"
      ]
     },
     "execution_count": 16,
     "metadata": {},
     "output_type": "execute_result"
    }
   ],
   "source": [
    "# Q7\n",
    "\n",
    "import pandas as pd\n",
    "def username_part(df):\n",
    "    df['Username'] = df['Username'].str.split('@').str[0]\n",
    "    return df\n",
    "usernames = {\n",
    "    \"Username\": [\"Mrbeast@gmail.com\",\"Ayush@yahoo.com\", \"Rahul123@outlook.com\"]\n",
    "}\n",
    "df = pd.DataFrame(usernames)    \n",
    "username_part(df)"
   ]
  },
  {
   "cell_type": "code",
   "execution_count": 25,
   "metadata": {},
   "outputs": [
    {
     "name": "stdout",
     "output_type": "stream",
     "text": [
      "   A  B  C\n",
      "1  8  2  7\n",
      "2  6  9  4\n",
      "4  9  1  2\n"
     ]
    }
   ],
   "source": [
    "# Q8\n",
    "import pandas as pd\n",
    "\n",
    "def select_row(df):\n",
    "    return df[(df['A'] > 5) & (df['B'] < 10)]\n",
    "\n",
    "data = {\n",
    "    'A': [3, 8, 6, 2, 9],\n",
    "    'B': [5, 2, 9, 3, 1],\n",
    "    'C': [1, 7, 4, 5, 2]\n",
    "}\n",
    "\n",
    "df = pd.DataFrame(data)\n",
    "print(select_row(df))\n"
   ]
  },
  {
   "cell_type": "code",
   "execution_count": 28,
   "metadata": {},
   "outputs": [
    {
     "name": "stdout",
     "output_type": "stream",
     "text": [
      "Mean: Values    79.166667\n",
      "dtype: float64\n",
      "Median: Values    86.0\n",
      "dtype: float64\n",
      "Standard Deviation: Values    17.336859\n",
      "dtype: float64\n"
     ]
    }
   ],
   "source": [
    "#Q9\n",
    "\n",
    "import pandas as pd\n",
    "def stats(df):\n",
    "    mean = df.mean()\n",
    "    median = df.median()\n",
    "    standard_deviation = df.std()\n",
    "    df['mean'] = mean\n",
    "    df['median'] = median\n",
    "    df['standard_deviation'] = standard_deviation\n",
    "    return mean, median, standard_deviation\n",
    "data = {\n",
    "   'Values':[47, 95, 88, 73, 88, 84]\n",
    "}\n",
    "df = pd.DataFrame(data)\n",
    "mean, median, standard_deviation = stats(df)\n",
    "print(\"Mean:\", mean)\n",
    "print(\"Median:\", median)\n",
    "print(\"Standard Deviation:\", standard_deviation)"
   ]
  },
  {
   "cell_type": "code",
   "execution_count": 32,
   "metadata": {},
   "outputs": [
    {
     "name": "stdout",
     "output_type": "stream",
     "text": [
      "        Date  Sales  MovingAverage\n",
      "0 2023-08-01    100     100.000000\n",
      "1 2023-08-02    120     110.000000\n",
      "2 2023-08-03     80     100.000000\n",
      "3 2023-08-04    110     102.500000\n",
      "4 2023-08-05     90     100.000000\n",
      "5 2023-08-06    130     105.000000\n",
      "6 2023-08-07    140     110.000000\n",
      "7 2023-08-08    120     112.857143\n",
      "8 2023-08-09    160     118.571429\n",
      "9 2023-08-10    170     131.428571\n"
     ]
    }
   ],
   "source": [
    "# Q10\n",
    "import pandas as pd\n",
    "\n",
    "def calculate_moving_average(df):\n",
    "    df.sort_values(by='Date', inplace=True)\n",
    "\n",
    "    # Calculate the moving average using a rolling window of size 7\n",
    "    df['MovingAverage'] = df['Sales'].rolling(window=7, min_periods=1).mean()\n",
    "\n",
    "    return df\n",
    "\n",
    "data = {\n",
    "    'Date': pd.date_range(start='2023-08-01', periods=10),\n",
    "    'Sales': [100, 120, 80, 110, 90, 130, 140, 120, 160, 170]\n",
    "}\n",
    "df = pd.DataFrame(data)\n",
    "\n",
    "# Call the function with the DataFrame\n",
    "df_with_ma = calculate_moving_average(df)\n",
    "\n",
    "print(df_with_ma)\n"
   ]
  },
  {
   "cell_type": "code",
   "execution_count": 34,
   "metadata": {},
   "outputs": [
    {
     "name": "stdout",
     "output_type": "stream",
     "text": [
      "        Date    Weekday\n",
      "0 2023-01-01     Sunday\n",
      "1 2023-01-02     Monday\n",
      "2 2023-01-03    Tuesday\n",
      "3 2023-01-04  Wednesday\n",
      "4 2023-01-05   Thursday\n"
     ]
    }
   ],
   "source": [
    "# Q11\n",
    "import pandas as pd\n",
    "\n",
    "def add_weekday_column(df):\n",
    "   \n",
    "    df['Date'] = pd.to_datetime(df['Date'])\n",
    "\n",
    "    df['Weekday'] = df['Date'].dt.day_name()\n",
    "\n",
    "    return df\n",
    "\n",
    "\n",
    "data = {\n",
    "    'Date': ['2023-01-01', '2023-01-02', '2023-01-03', '2023-01-04', '2023-01-05']\n",
    "}\n",
    "df = pd.DataFrame(data)\n",
    "\n",
    "df_with_weekday = add_weekday_column(df)\n",
    "\n",
    "print(df_with_weekday)\n"
   ]
  },
  {
   "cell_type": "code",
   "execution_count": 35,
   "metadata": {},
   "outputs": [
    {
     "name": "stdout",
     "output_type": "stream",
     "text": [
      "        Date\n",
      "0 2023-01-01\n",
      "1 2023-01-15\n",
      "2 2023-01-20\n",
      "4 2023-01-31\n"
     ]
    }
   ],
   "source": [
    "# Q12\n",
    "import pandas as pd\n",
    "\n",
    "def select_rows_between_dates(df):\n",
    "   \n",
    "    df['Date'] = pd.to_datetime(df['Date'])\n",
    "\n",
    "    # Define the start and end dates\n",
    "    start_date = '2023-01-01'\n",
    "    end_date = '2023-01-31'\n",
    "\n",
    "    # Use boolean indexing to select rows between the start and end dates\n",
    "    selected_rows = df[(df['Date'] >= start_date) & (df['Date'] <= end_date)]\n",
    "\n",
    "    return selected_rows\n",
    "\n",
    "data = {\n",
    "    'Date': ['2023-01-01', '2023-01-15', '2023-01-20', '2023-02-05', '2023-01-31']\n",
    "}\n",
    "df = pd.DataFrame(data)\n",
    "\n",
    "\n",
    "selected_df = select_rows_between_dates(df)\n",
    "\n",
    "print(selected_df)\n"
   ]
  },
  {
   "cell_type": "code",
   "execution_count": null,
   "metadata": {},
   "outputs": [],
   "source": [
    "# Q13\n",
    "'''To use the basic functions of pandas, the first and foremost necessary library that needs to be imported is pandas'''\n",
    "# You can import pandas using the following standard import statement:\n",
    "import pandas as pd"
   ]
  }
 ],
 "metadata": {
  "kernelspec": {
   "display_name": "Python 3",
   "language": "python",
   "name": "python3"
  },
  "language_info": {
   "codemirror_mode": {
    "name": "ipython",
    "version": 3
   },
   "file_extension": ".py",
   "mimetype": "text/x-python",
   "name": "python",
   "nbconvert_exporter": "python",
   "pygments_lexer": "ipython3",
   "version": "3.11.4"
  },
  "orig_nbformat": 4
 },
 "nbformat": 4,
 "nbformat_minor": 2
}
